{
 "cells": [
  {
   "cell_type": "code",
   "execution_count": 3,
   "metadata": {},
   "outputs": [],
   "source": [
    "import pandas as pd\n",
    "import os\n",
    "\n",
    "\n",
    "def dat_read(filename) :\n",
    "    # create an empty list to store dictionaries\n",
    "    data_list = []\n",
    "\n",
    "    with open(filename, \"r\") as f:\n",
    "        line = f.readline()\n",
    "        while line:\n",
    "            # convert the line to a dictionary\n",
    "            data = eval(line.strip())\n",
    "            # append the dictionary to the list\n",
    "            data_list.append(data)\n",
    "            line = f.readline()\n",
    "\n",
    "    # create a DataFrame from the list of dictionaries using pd.concat()\n",
    "\n",
    "    df = pd.concat([pd.DataFrame(data_list[i], index=[i]) for i in range(len(data_list))])\n",
    "    return df\n",
    "\n",
    "folder_path = \"./IoTModuleServer-금산/Log/\"\n",
    "\n",
    "for i, filename in enumerate(os.listdir(folder_path)):\n",
    "    if filename.endswith(\".dat\"):  # filter files with a certain extension\n",
    "        file_path = os.path.join(folder_path, filename)\n",
    "        df = dat_read(file_path)\n",
    "        df.to_csv(f\"{i}.csv\",index=False)"
   ]
  }
 ],
 "metadata": {
  "kernelspec": {
   "display_name": "PT",
   "language": "python",
   "name": "python3"
  },
  "language_info": {
   "codemirror_mode": {
    "name": "ipython",
    "version": 3
   },
   "file_extension": ".py",
   "mimetype": "text/x-python",
   "name": "python",
   "nbconvert_exporter": "python",
   "pygments_lexer": "ipython3",
   "version": "3.9.16"
  },
  "orig_nbformat": 4,
  "vscode": {
   "interpreter": {
    "hash": "071a6260fa135c6ce980e67b50f6abc83fddb22344dc88af2c55a8c97b5e8a45"
   }
  }
 },
 "nbformat": 4,
 "nbformat_minor": 2
}
